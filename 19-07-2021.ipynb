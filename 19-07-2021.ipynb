{
 "cells": [
  {
   "cell_type": "code",
   "execution_count": null,
   "metadata": {},
   "outputs": [],
   "source": [
    "# 6\n",
    "# not prime number\n",
    "2-  1,2= 2\n",
    "3-  1,3= 2\n",
    "5-  1,5= 2\n",
    "7-  1,7\n"
   ]
  },
  {
   "cell_type": "code",
   "execution_count": 5,
   "metadata": {},
   "outputs": [
    {
     "name": "stdout",
     "output_type": "stream",
     "text": [
      "Enter any number: 6\n",
      "Factors count= 4\n",
      "Not Prime Number\n"
     ]
    }
   ],
   "source": [
    "n=int(input('Enter any number: ')) # 5\n",
    "f_count=0\n",
    "for i in range(1,n+1): # (1,5) # i=1 i=2 I=6\n",
    "    if(n%i==0): # 5%5==0(T)\n",
    "        f_count=f_count+1  # 0+1=1 1+1=2\n",
    "print(\"Factors count=\",f_count)\n",
    "if(f_count==2): # 3==2(F)\n",
    "    print(\"Prime Number\")\n",
    "else:\n",
    "    print(\"Not Prime Number\")"
   ]
  },
  {
   "cell_type": "code",
   "execution_count": null,
   "metadata": {},
   "outputs": [],
   "source": [
    "# Perfect Number\n",
    "6-  1,2,3-  1+2+3=6\n",
    "given number= sum of factors expect itself factor\n",
    "28= 1 2 4 7 14 28= 1+2+4+7+14=28"
   ]
  },
  {
   "cell_type": "code",
   "execution_count": 7,
   "metadata": {},
   "outputs": [
    {
     "name": "stdout",
     "output_type": "stream",
     "text": [
      "6\n",
      "Perfect Number\n"
     ]
    }
   ],
   "source": [
    "c=int(input())  # 6\n",
    "f_sum=0   #0\n",
    "for i in range(1,n): # (1,5)\n",
    "    if(c%i==0):  # 6%5==0(F)\n",
    "        f_sum=f_sum+i  # 0+1=1  1+2=3  3+3=6\n",
    "if(f_sum==c):  # 6==6(T)\n",
    "    print(\"Perfect Number\")\n",
    "else:\n",
    "    print(\"Not Perfect Number\")"
   ]
  },
  {
   "cell_type": "code",
   "execution_count": null,
   "metadata": {},
   "outputs": [],
   "source": [
    "palindrome- 121-121"
   ]
  },
  {
   "cell_type": "code",
   "execution_count": null,
   "metadata": {},
   "outputs": [],
   "source": [
    "# while loop syntax:\n",
    "initialization\n",
    "while(condition):\n",
    "    statements\n",
    "    updation/increment/decrement"
   ]
  },
  {
   "cell_type": "code",
   "execution_count": 8,
   "metadata": {},
   "outputs": [
    {
     "name": "stdout",
     "output_type": "stream",
     "text": [
      "1 2 3 4 5 6 7 8 9 10 "
     ]
    }
   ],
   "source": [
    "# 1 to 10 numbers printing\n",
    "i=1   \n",
    "while(i<=10):  # 11<=10(F)\n",
    "    print(i,end=' ') # 1 2 3.......10\n",
    "    i=i+1   # 1+1=2  2+1=3  4  11"
   ]
  },
  {
   "cell_type": "code",
   "execution_count": 10,
   "metadata": {},
   "outputs": [
    {
     "name": "stdout",
     "output_type": "stream",
     "text": [
      "1 4 7 10 "
     ]
    }
   ],
   "source": [
    "# 1 4 7 10\n",
    "i=1   \n",
    "while(i<=10):  # 11<=10(F)\n",
    "    print(i,end=' ') # 1 2 3.......10\n",
    "    i=i+3 #   1+1=2  2+1=3  4  11"
   ]
  },
  {
   "cell_type": "code",
   "execution_count": 11,
   "metadata": {},
   "outputs": [
    {
     "name": "stdout",
     "output_type": "stream",
     "text": [
      "10 9 8 7 6 5 4 3 2 1 "
     ]
    }
   ],
   "source": [
    "# 10 TO 1\n",
    "i=10\n",
    "while(i>=1):  # 9>=1(T)\n",
    "    print(i,end=' ')   # 10 9.......1\n",
    "    i=i-1  "
   ]
  },
  {
   "cell_type": "code",
   "execution_count": 12,
   "metadata": {},
   "outputs": [
    {
     "name": "stdout",
     "output_type": "stream",
     "text": [
      "100\n",
      "1 2 3 4 5 6 7 8 9 10 11 12 13 14 15 16 17 18 19 20 21 22 23 24 25 26 27 28 29 30 31 32 33 34 35 36 37 38 39 40 41 42 43 44 45 46 47 48 49 50 51 52 53 54 55 56 57 58 59 60 61 62 63 64 65 66 67 68 69 70 71 72 73 74 75 76 77 78 79 80 81 82 83 84 85 86 87 88 89 90 91 92 93 94 95 96 97 98 99 100 "
     ]
    }
   ],
   "source": [
    "m=int(input())\n",
    "i=1\n",
    "while(i<=m):\n",
    "    print(i,end=' ')\n",
    "    i=i+1"
   ]
  },
  {
   "cell_type": "code",
   "execution_count": 14,
   "metadata": {},
   "outputs": [
    {
     "name": "stdout",
     "output_type": "stream",
     "text": [
      "45678\n",
      "digits count= 5\n"
     ]
    }
   ],
   "source": [
    "# 37397\n",
    "# digits count= 5\n",
    "n=int(input())\n",
    "c=0\n",
    "while(n>0): # 345>0(T) 34>0(T) 3>0(T) 0>0(F)\n",
    "    c=c+1  # 0+1=1  1+1=2 2+1=3\n",
    "    n=n//10  #345//10=34 34//10=3  3//10=0\n",
    "print(\"digits count=\",c)\n",
    "    "
   ]
  },
  {
   "cell_type": "code",
   "execution_count": 15,
   "metadata": {},
   "outputs": [
    {
     "data": {
      "text/plain": [
       "34"
      ]
     },
     "execution_count": 15,
     "metadata": {},
     "output_type": "execute_result"
    }
   ],
   "source": [
    "345//10"
   ]
  },
  {
   "cell_type": "code",
   "execution_count": null,
   "metadata": {},
   "outputs": [],
   "source": [
    "# 786\n",
    "# 687"
   ]
  },
  {
   "cell_type": "code",
   "execution_count": 1,
   "metadata": {},
   "outputs": [
    {
     "name": "stdout",
     "output_type": "stream",
     "text": [
      "45678\n",
      "reverse= 87654\n"
     ]
    }
   ],
   "source": [
    "n=int(input())\n",
    "rev=0   \n",
    "while(n>0):  # 345>0(T )   34>0(T)   3>0(T) 0>0(F)\n",
    "    r=n%10  # 345%10=5   34%10=4   3%10=3\n",
    "    rev=rev*10+r 0*10+5=5  5*10+4=54  54*10+3=543\n",
    "    n=n//10   # 345//10=34   34//10=3  3//10=0\n",
    "print(\"reverse=\",rev)"
   ]
  },
  {
   "cell_type": "code",
   "execution_count": null,
   "metadata": {},
   "outputs": [],
   "source": [
    "# palindrome\n",
    "# 121"
   ]
  },
  {
   "cell_type": "code",
   "execution_count": null,
   "metadata": {},
   "outputs": [],
   "source": []
  }
 ],
 "metadata": {
  "kernelspec": {
   "display_name": "Python 3",
   "language": "python",
   "name": "python3"
  },
  "language_info": {
   "codemirror_mode": {
    "name": "ipython",
    "version": 3
   },
   "file_extension": ".py",
   "mimetype": "text/x-python",
   "name": "python",
   "nbconvert_exporter": "python",
   "pygments_lexer": "ipython3",
   "version": "3.7.3"
  }
 },
 "nbformat": 4,
 "nbformat_minor": 2
}
