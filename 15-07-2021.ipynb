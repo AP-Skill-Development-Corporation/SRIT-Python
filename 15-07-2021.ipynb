{
 "cells": [
  {
   "cell_type": "markdown",
   "metadata": {},
   "source": [
    "# Conditional Statements\n",
    "--> To execute specific block\n",
    "--> Given condition is true or false"
   ]
  },
  {
   "cell_type": "code",
   "execution_count": null,
   "metadata": {},
   "outputs": [],
   "source": [
    "-> if :- To check the single condition\n",
    "-> if-else :- \n",
    "-> elif :- To check two or more conditions\n",
    "-> nested if :- if block inside blocks"
   ]
  },
  {
   "cell_type": "code",
   "execution_count": null,
   "metadata": {},
   "outputs": [],
   "source": [
    "if syntax:\n",
    "    \n",
    "    if(condition):\n",
    "        statements"
   ]
  },
  {
   "cell_type": "code",
   "execution_count": 2,
   "metadata": {},
   "outputs": [
    {
     "name": "stdout",
     "output_type": "stream",
     "text": [
      "Enter any number: -5\n"
     ]
    }
   ],
   "source": [
    "# To check whether a number is positive\n",
    "n=int(input('Enter any number: ')) # n=10\n",
    "if(n>0):   # 10>0(T)\n",
    "    print(\"Positive Number\")\n",
    "    "
   ]
  },
  {
   "cell_type": "code",
   "execution_count": 6,
   "metadata": {},
   "outputs": [
    {
     "name": "stdout",
     "output_type": "stream",
     "text": [
      "Enter any number: 9\n"
     ]
    }
   ],
   "source": [
    "# To check whether a number is even\n",
    "a=int(input('Enter any number: ')) #4\n",
    "if(a%2==0):  # 4%2   1==0(T)\n",
    "    print(\"Even Number\")\n"
   ]
  },
  {
   "cell_type": "code",
   "execution_count": null,
   "metadata": {},
   "outputs": [],
   "source": [
    "if-else syntax:\n",
    "    \n",
    "    if(condition):\n",
    "        statements\n",
    "    else:\n",
    "        statements\n",
    "        "
   ]
  },
  {
   "cell_type": "code",
   "execution_count": 8,
   "metadata": {},
   "outputs": [
    {
     "name": "stdout",
     "output_type": "stream",
     "text": [
      "Enter any number: -6\n",
      "Negative Number\n"
     ]
    }
   ],
   "source": [
    "# To check whether a number is positive or negative\n",
    "n=int(input('Enter any number: ')) # n=10\n",
    "if(n>0):   # -6>0(F)\n",
    "    print(\"Positive Number\")\n",
    "else:\n",
    "    print(\"Negative Number\")\n",
    "    "
   ]
  },
  {
   "cell_type": "code",
   "execution_count": 10,
   "metadata": {},
   "outputs": [
    {
     "name": "stdout",
     "output_type": "stream",
     "text": [
      "Enter any number: 9\n",
      "Odd Number\n"
     ]
    }
   ],
   "source": [
    "# To check whether a number is even or odd\n",
    "a=int(input('Enter any number: ')) #4\n",
    "if(a%2==0):  # 7%2   1==0(F)\n",
    "    print(\"Even Number\")\n",
    "else:\n",
    "    print(\"Odd Number\")\n"
   ]
  },
  {
   "cell_type": "code",
   "execution_count": 12,
   "metadata": {},
   "outputs": [
    {
     "name": "stdout",
     "output_type": "stream",
     "text": [
      "Enter your age: 12\n",
      "Not Eligible for vote\n"
     ]
    }
   ],
   "source": [
    "# vote\n",
    "age=int(input('Enter your age: '))  #56\n",
    "if(age>=18):  # 12>=18(F)\n",
    "    print(\"Eligible for vote\")\n",
    "else:\n",
    "    print(\"Not Eligible for vote\")"
   ]
  },
  {
   "cell_type": "code",
   "execution_count": 13,
   "metadata": {},
   "outputs": [
    {
     "name": "stdout",
     "output_type": "stream",
     "text": [
      "Enter 1st number: 5\n",
      "Enter 2nd number: 6\n",
      "6 is big number\n"
     ]
    }
   ],
   "source": [
    "# big number\n",
    "a=int(input('Enter 1st number: ')) # 5\n",
    "b=int(input('Enter 2nd number: '))  # 6\n",
    "if(a>b): # 5>6(F)\n",
    "    print(a,\"is big number\")\n",
    "else:\n",
    "    print(b,\"is big number\")\n"
   ]
  },
  {
   "cell_type": "code",
   "execution_count": 15,
   "metadata": {},
   "outputs": [
    {
     "name": "stdout",
     "output_type": "stream",
     "text": [
      "Enter any number: 15\n",
      "15 is divisible by 3\n"
     ]
    }
   ],
   "source": [
    "# Divisible by 3\n",
    "k=int(input('Enter any number: '))\n",
    "if(k%3==0):  # 15%3==0(T)\n",
    "    print(k,\"is divisible by 3\")\n",
    "else:\n",
    "    print(k,\"is not divisible by 3\")"
   ]
  },
  {
   "cell_type": "code",
   "execution_count": 19,
   "metadata": {},
   "outputs": [
    {
     "name": "stdout",
     "output_type": "stream",
     "text": [
      "15\n",
      "15 is divisible by 3 and 5\n"
     ]
    }
   ],
   "source": [
    "# Divisible by 3 and 5\n",
    "n=int(input())\n",
    "if(n%3==0 and n%5==0):  # 10%3==0(F) and 10%5==0(T)----> F\n",
    "    print(n,\"is divisible by 3 and 5\")\n",
    "else:\n",
    "    print(n,\"is not divisible by 3 and 5\")"
   ]
  },
  {
   "cell_type": "code",
   "execution_count": null,
   "metadata": {},
   "outputs": [],
   "source": [
    "Logical and\n",
    "--------\n",
    "a b a and b\n",
    "T T T\n",
    "T F F\n",
    "F T F\n",
    "F F F"
   ]
  },
  {
   "cell_type": "code",
   "execution_count": null,
   "metadata": {},
   "outputs": [],
   "source": [
    "Elif syntax:\n",
    "    \n",
    "    if(condition1):\n",
    "        statements\n",
    "    elif(condition2):\n",
    "        statements\n",
    "    elif(condition3):\n",
    "        statements\n",
    "        .\n",
    "        .\n",
    "        .\n",
    "    else:\n",
    "        statements\n",
    "    "
   ]
  },
  {
   "cell_type": "code",
   "execution_count": null,
   "metadata": {},
   "outputs": [],
   "source": [
    "# printing week day\n",
    "# i/p: (0-6) # 5\n",
    "# o/p:  Friday\n",
    "\n",
    "# i/p: above 7\n",
    "# output: Invalid input\n",
    "\n",
    "0-Sunday    3- Wednesday   6-Saturday\n",
    "1-Monday    4-Thursday\n",
    "2-Tuesday   5-Friday\n"
   ]
  },
  {
   "cell_type": "code",
   "execution_count": 21,
   "metadata": {},
   "outputs": [
    {
     "name": "stdout",
     "output_type": "stream",
     "text": [
      "4\n",
      "Thursday\n"
     ]
    }
   ],
   "source": [
    "n=int(input())  #4\n",
    "if(n==0):  # 4==0(F)\n",
    "    print(\"Sunday\")\n",
    "elif(n==1): # 4==1(F)\n",
    "    print(\"Monday\")\n",
    "elif(n==2):  # 4==2(F)\n",
    "    print(\"Tuesday\")\n",
    "elif(n==3):  # 4==3(F)\n",
    "    print(\"Wednesday\")\n",
    "elif(n==4): # 4==4(T)\n",
    "    print(\"Thursday\")\n",
    "elif(n==5):\n",
    "    print(\"Friday\")\n",
    "elif(n==6):\n",
    "    print(\"Saturday\")\n",
    "else:\n",
    "    print(\"Invalid Input\")"
   ]
  },
  {
   "cell_type": "code",
   "execution_count": null,
   "metadata": {},
   "outputs": [],
   "source": [
    "i/p: 2\n",
    "o/p: even\n",
    "     square - 4\n",
    "\n",
    "i/p: 3\n",
    "     Odd \n",
    "     cube- 27"
   ]
  },
  {
   "cell_type": "code",
   "execution_count": 23,
   "metadata": {},
   "outputs": [
    {
     "name": "stdout",
     "output_type": "stream",
     "text": [
      "7\n",
      "Odd Number\n",
      "343\n"
     ]
    }
   ],
   "source": [
    "c=int(input())\n",
    "if(c%2==0):\n",
    "    print(\"Even Number\")\n",
    "    print(c**2)\n",
    "else:\n",
    "    print(\"Odd Number\")\n",
    "    print(c**3)"
   ]
  },
  {
   "cell_type": "code",
   "execution_count": null,
   "metadata": {},
   "outputs": [],
   "source": [
    "# 45\n",
    "# 23\n",
    "# 78\n",
    "o/p: 78 is the big number"
   ]
  },
  {
   "cell_type": "code",
   "execution_count": null,
   "metadata": {},
   "outputs": [],
   "source": []
  }
 ],
 "metadata": {
  "kernelspec": {
   "display_name": "Python 3",
   "language": "python",
   "name": "python3"
  },
  "language_info": {
   "codemirror_mode": {
    "name": "ipython",
    "version": 3
   },
   "file_extension": ".py",
   "mimetype": "text/x-python",
   "name": "python",
   "nbconvert_exporter": "python",
   "pygments_lexer": "ipython3",
   "version": "3.7.3"
  }
 },
 "nbformat": 4,
 "nbformat_minor": 2
}
