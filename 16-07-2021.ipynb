{
 "cells": [
  {
   "cell_type": "code",
   "execution_count": 2,
   "metadata": {},
   "outputs": [
    {
     "name": "stdout",
     "output_type": "stream",
     "text": [
      "56\n",
      "77\n",
      "123\n",
      "123 is big number\n"
     ]
    }
   ],
   "source": [
    "a=int(input())\n",
    "b=int(input())\n",
    "c=int(input())\n",
    "if(a>b and a>c): # 12>45(F) and 12>22(F)-->F\n",
    "    print(a,\"is big number\")\n",
    "elif(b>c): # 45>22(T)\n",
    "    print(b,\"is big number\")\n",
    "else:\n",
    "    print(c,\"is big number\")"
   ]
  },
  {
   "cell_type": "code",
   "execution_count": null,
   "metadata": {},
   "outputs": [],
   "source": [
    "80-100--> A Grade\n",
    "60-79---> B Grade\n",
    "40-59---> C Grade\n",
    "1-39--> Fail\n",
    "\n",
    "Invalid input"
   ]
  },
  {
   "cell_type": "code",
   "execution_count": 7,
   "metadata": {},
   "outputs": [
    {
     "name": "stdout",
     "output_type": "stream",
     "text": [
      "Enter your marks: 108\n",
      "Invalid input\n"
     ]
    }
   ],
   "source": [
    "marks=int(input('Enter your marks: '))\n",
    "if(marks>=80 and marks<=100):\n",
    "    print(\"A Grade\")\n",
    "elif(marks>=60 and marks<=79):\n",
    "    print(\"B Grade\")\n",
    "elif(marks>=40 and marks<=59):\n",
    "    print(\"C Grade\")\n",
    "elif(marks>=1 and marks<=39):\n",
    "    print(\"FAIL\")\n",
    "else:\n",
    "    print(\"Invalid input\")"
   ]
  },
  {
   "cell_type": "code",
   "execution_count": 12,
   "metadata": {},
   "outputs": [
    {
     "name": "stdout",
     "output_type": "stream",
     "text": [
      "Enter month: February\n",
      "February has 28 or 29 Days\n"
     ]
    }
   ],
   "source": [
    "# i/p: may\n",
    "# o/p: 31 Days\n",
    "month=input('Enter month: ')\n",
    "if month in ['January','March','May','July','Auguest','October','December']:\n",
    "    print(month,\"has 31 Days\")\n",
    "elif month in ['April','June','September','November']:\n",
    "    print(month,\"has 30 Days\")\n",
    "elif month in [\"February\"]:\n",
    "    print(month,\"has 28 or 29 Days\")\n",
    "else:\n",
    "    print(\"Invalid input\")"
   ]
  },
  {
   "cell_type": "code",
   "execution_count": null,
   "metadata": {},
   "outputs": [],
   "source": [
    "# Arithmetic Operations\n",
    "i/p: 5\n",
    "     6\n",
    "    1.add 2.sub 3.mul 4.div 5.modulus 6.floor 7.pow\n",
    "    enter your choice : 6\n",
    "    5 and 6 multiplication is: 30\n",
    "    "
   ]
  },
  {
   "cell_type": "code",
   "execution_count": 16,
   "metadata": {},
   "outputs": [
    {
     "name": "stdout",
     "output_type": "stream",
     "text": [
      "Enter 1st number: 8\n",
      "Enter 2nd number: 2\n",
      "1.add 2.sub 3.mul 4.div 5.modulus 6.floor 7.power\n",
      "Enter your choice: 3\n",
      "8 and 2 multiplication is: 16\n"
     ]
    }
   ],
   "source": [
    "a=int(input('Enter 1st number: '))\n",
    "b=int(input('Enter 2nd number: '))\n",
    "print(\"1.add 2.sub 3.mul 4.div 5.modulus 6.floor 7.power\")\n",
    "choice=int(input(\"Enter your choice: \"))\n",
    "if(choice==1):\n",
    "    print(a,\"and\",b,\"addition is:\",a+b)\n",
    "elif(choice==2):\n",
    "    print(a,\"and\",b,\"substraction is:\",a-b)\n",
    "elif(choice==3):\n",
    "    print(a,\"and\",b,\"multiplication is:\",a*b)\n",
    "elif(choice==4):\n",
    "    print(a,\"and\",b,\"division is:\",a/b)\n",
    "elif(choice==5):\n",
    "    print(a,\"and\",b,\"modulus is:\",a%b)\n",
    "elif(choice==6):\n",
    "    print(a,\"and\",b,\"floor is:\",a//b)\n",
    "elif(choice==7):\n",
    "    print(a,\"and\",b,\"power is:\",a**b)\n",
    "else:\n",
    "    print(\"Invalid Choice\")"
   ]
  },
  {
   "cell_type": "markdown",
   "metadata": {},
   "source": [
    "# nested if"
   ]
  },
  {
   "cell_type": "code",
   "execution_count": null,
   "metadata": {},
   "outputs": [],
   "source": [
    "nested if syntax:\n",
    "    \n",
    "    if(condition):\n",
    "        if(condition):\n",
    "            statements\n",
    "        else:\n",
    "            statements\n",
    "    else:\n",
    "        statements"
   ]
  },
  {
   "cell_type": "code",
   "execution_count": null,
   "metadata": {},
   "outputs": [],
   "source": [
    "# i/p: 6\n",
    "       Even Number\n",
    "       >10---> square--> 144\n",
    "       <10 --->  cube--> 256\n",
    "\n",
    "# i/p: 7\n",
    "  o/p: Odd number"
   ]
  },
  {
   "cell_type": "code",
   "execution_count": 19,
   "metadata": {},
   "outputs": [
    {
     "name": "stdout",
     "output_type": "stream",
     "text": [
      "6\n",
      "Even Number\n",
      "216\n"
     ]
    }
   ],
   "source": [
    "n=int(input())\n",
    "if(n%2==0): # 6%2==0(T)\n",
    "    print(\"Even Number\") # even\n",
    "    if(n>10): # 6>10(F)\n",
    "        print(n**2) \n",
    "    else:\n",
    "        print(n**3) # 6**3=216\n",
    "else:\n",
    "    print(\"Odd Number\")"
   ]
  },
  {
   "cell_type": "code",
   "execution_count": null,
   "metadata": {},
   "outputs": [],
   "source": [
    "uid:- 123    --> 205\n",
    "100 to 200\n",
    "pwd :- apssdc@123 --> o/p: Welcome  \n",
    "    fixed password--> apssdc@123\n",
    " \n",
    "   wrong password:- o/p: Invalid Password\n",
    "            \n",
    "o/p: Invalid Userid"
   ]
  },
  {
   "cell_type": "code",
   "execution_count": null,
   "metadata": {},
   "outputs": [],
   "source": [
    "i/p: (A-Z) / (a-z)-->  u/U  @/%/*\n",
    "\n",
    "o/p: Alphabet\n",
    "\n",
    "    o/p: Not an alphabet\n",
    "    "
   ]
  },
  {
   "cell_type": "code",
   "execution_count": 23,
   "metadata": {},
   "outputs": [
    {
     "name": "stdout",
     "output_type": "stream",
     "text": [
      "#\n",
      "Not an Alphabet\n"
     ]
    }
   ],
   "source": [
    "n=input()\n",
    "if((n>='A' and n<='Z') or (n>='a' and n<='z')):\n",
    "    print(\"Alphabet\")\n",
    "else:\n",
    "    print(\"Not an Alphabet\")"
   ]
  },
  {
   "cell_type": "code",
   "execution_count": null,
   "metadata": {},
   "outputs": [],
   "source": [
    "'A'- 65\n",
    "a- 97"
   ]
  },
  {
   "cell_type": "code",
   "execution_count": 24,
   "metadata": {},
   "outputs": [
    {
     "data": {
      "text/plain": [
       "65"
      ]
     },
     "execution_count": 24,
     "metadata": {},
     "output_type": "execute_result"
    }
   ],
   "source": [
    "ord('A')"
   ]
  },
  {
   "cell_type": "code",
   "execution_count": 25,
   "metadata": {},
   "outputs": [
    {
     "data": {
      "text/plain": [
       "99"
      ]
     },
     "execution_count": 25,
     "metadata": {},
     "output_type": "execute_result"
    }
   ],
   "source": [
    "ord('c')"
   ]
  },
  {
   "cell_type": "code",
   "execution_count": 26,
   "metadata": {},
   "outputs": [
    {
     "data": {
      "text/plain": [
       "48"
      ]
     },
     "execution_count": 26,
     "metadata": {},
     "output_type": "execute_result"
    }
   ],
   "source": [
    "ord('0')"
   ]
  },
  {
   "cell_type": "code",
   "execution_count": 27,
   "metadata": {},
   "outputs": [
    {
     "data": {
      "text/plain": [
       "49"
      ]
     },
     "execution_count": 27,
     "metadata": {},
     "output_type": "execute_result"
    }
   ],
   "source": [
    "ord('1')"
   ]
  },
  {
   "cell_type": "code",
   "execution_count": 28,
   "metadata": {},
   "outputs": [
    {
     "data": {
      "text/plain": [
       "50"
      ]
     },
     "execution_count": 28,
     "metadata": {},
     "output_type": "execute_result"
    }
   ],
   "source": [
    "ord('2')"
   ]
  },
  {
   "cell_type": "code",
   "execution_count": 32,
   "metadata": {},
   "outputs": [
    {
     "data": {
      "text/plain": [
       "126"
      ]
     },
     "execution_count": 32,
     "metadata": {},
     "output_type": "execute_result"
    }
   ],
   "source": [
    "ord('~')"
   ]
  },
  {
   "cell_type": "code",
   "execution_count": null,
   "metadata": {},
   "outputs": [],
   "source": []
  }
 ],
 "metadata": {
  "kernelspec": {
   "display_name": "Python 3",
   "language": "python",
   "name": "python3"
  },
  "language_info": {
   "codemirror_mode": {
    "name": "ipython",
    "version": 3
   },
   "file_extension": ".py",
   "mimetype": "text/x-python",
   "name": "python",
   "nbconvert_exporter": "python",
   "pygments_lexer": "ipython3",
   "version": "3.7.3"
  }
 },
 "nbformat": 4,
 "nbformat_minor": 2
}
